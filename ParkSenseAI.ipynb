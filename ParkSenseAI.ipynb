{
 "cells": [
  {
   "cell_type": "code",
   "execution_count": 10,
   "metadata": {},
   "outputs": [],
   "source": [
    "#Choose a Dataset\n",
    "#Use a pre-annotated dataset for object detection:\n",
    "#COCO Dataset: Common Objects in Context (80 classes)\n",
    "#Pascal VOC\n",
    "#Custom dataset (optional) with annotations in YOLO or COCO format\n",
    "#from ultralytics import YOLO #How to import a database\n",
    "#pip install ultralytics\n",
    "\n",
    "\n",
    "#Install Required Libraries\n",
    "#pip install opencv-python matplotlib\n",
    "#pip install tensorflow tensorflow-hub opencv-python matplotlib\n",
    "#pip install tensorflow scikit-learn opencv-python gTTS\n"
   ]
  },
  {
   "cell_type": "code",
   "execution_count": 11,
   "metadata": {},
   "outputs": [],
   "source": [
    "#Import Libraries\n",
    "import numpy as np\n",
    "import pandas as pd\n",
    "import matplotlib.pyplot as plt\n",
    "import tensorflow as tf\n",
    "from tensorflow.keras import layers, models\n",
    "from sklearn.metrics import classification_report, confusion_matrix\n",
    "import cv2\n",
    "from gtts import gTTS\n"
   ]
  }
 ],
 "metadata": {
  "kernelspec": {
   "display_name": "tf3",
   "language": "python",
   "name": "python3"
  },
  "language_info": {
   "codemirror_mode": {
    "name": "ipython",
    "version": 3
   },
   "file_extension": ".py",
   "mimetype": "text/x-python",
   "name": "python",
   "nbconvert_exporter": "python",
   "pygments_lexer": "ipython3",
   "version": "3.10.13"
  }
 },
 "nbformat": 4,
 "nbformat_minor": 2
}
