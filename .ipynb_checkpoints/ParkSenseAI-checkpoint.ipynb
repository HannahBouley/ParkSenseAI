{
 "cells": [
  {
   "cell_type": "code",
   "execution_count": 3,
   "metadata": {},
   "outputs": [
    {
     "name": "stdout",
     "output_type": "stream",
     "text": [
      "test print\n",
      "Found 30 images\n"
     ]
    }
   ],
   "source": [
    "#Choose a Dataset\n",
    "#Use a pre-annotated dataset for object detection:\n",
    "#COCO Dataset: Common Objects in Context (80 classes)\n",
    "#Pascal VOC\n",
    "#Custom dataset (optional) with annotations in YOLO or COCO format\n",
    "#from ultralytics import YOLO #How to import a database\n",
    "#pip install ultralytics\n",
    "\n",
    "\n",
    "#Install Required Libraries\n",
    "#pip install opencv-python matplotlib\n",
    "#pip install tensorflow tensorflow-hub opencv-python matplotlib\n",
    "#pip install tensorflow scikit-learn opencv-python gTTS\n",
    "\n",
    "print(\"test print\")\n",
    "\n",
    "data_dir = Path('.//input//images')\n",
    "all_images = list(data_dir.glob('*.png'))  # or your format\n",
    "\n",
    "print(f\"Found {len(all_images)} images\")\n",
    "\n",
    "if len(all_images) == 0:\n",
    "    raise ValueError(\"No images found in directory.\")\n"
   ]
  },
  {
   "cell_type": "code",
   "execution_count": 2,
   "metadata": {},
   "outputs": [],
   "source": [
    "#Import Libraries\n",
    "import os\n",
    "import random\n",
    "import requests\n",
    "import torch\n",
    "from PIL import Image\n",
    "\n",
    "from pathlib import Path"
   ]
  },
  {
   "cell_type": "code",
   "execution_count": 11,
   "metadata": {},
   "outputs": [],
   "source": [
    "from super_gradients.training import Trainer, dataloaders, models\n",
    "from super_gradients.training.losses import PPYoloELoss\n",
    "from super_gradients.training.metrics import DetectionMetrics_050\n",
    "\n",
    "from super_gradients.training.dataloaders.dataloaders import (\n",
    "    coco_detection_yolo_format_train, \n",
    "    coco_detection_yolo_format_val\n",
    ")\n",
    "\n",
    "from super_gradients.training.models.detection_models.pp_yolo_e import (\n",
    "    PPYoloEPostPredictionCallback\n",
    ")"
   ]
  },
  {
   "cell_type": "code",
   "execution_count": 12,
   "metadata": {},
   "outputs": [],
   "source": [
    "# Configuration class\n",
    "class config:\n",
    "    \n",
    "    # Trainer params\n",
    "    CHECKPOINT_DIR = '..//ipynb_checkpoints' #specify the path you want to save checkpoints to\n",
    "    EXPERIMENT_NAME = 'race_number' #specify the experiment name\n",
    "    \n",
    "    # Dataset params\n",
    "    DATA_DIR = '/kaggle/input/parking-space-get-annotation-info-from-xml/datasets'\n",
    "    \n",
    "    # Parent directory to where data lives\n",
    "    TRAIN_IMAGES_DIR =  'train/images' #child dir of DATA_DIR where train images are\n",
    "    TRAIN_LABELS_DIR = 'train/boxes' #child dir of DATA_DIR where train labels are\n",
    "    VAL_IMAGES_DIR = 'valid/images' #child dir of DATA_DIR where validation images are\n",
    "    VAL_LABELS_DIR = 'valid/labels' #child dir of DATA_DIR where validation labels are\n",
    "    \n",
    "    # For test set\n",
    "    TEST_IMAGES_DIR = 'test/images' #child dir of DATA_DIR where test images are\n",
    "    TEST_LABELS_DIR = 'test/labels' #child dir of DATA_DIR where test labels are\n",
    "\n",
    "    CLASSES = ['free_parking_space','not_free_parking_space','partially_free_parking_space']\n",
    "    NUM_CLASSES = len(CLASSES)\n",
    "\n",
    "    # Dataloader params\n",
    "    DATALOADER_PARAMS={\n",
    "    'batch_size': 4,\n",
    "    'num_workers': 2\n",
    "    }\n",
    "\n",
    "    # Model params\n",
    "    MODEL_NAME = 'yolo_nas_l' # yolo_nas_l\n",
    "    PRETRAINED_WEIGHTS = 'coco' # Only one option here: coco\n",
    "\n",
    "    # Set up the trainer\n",
    "trainer = Trainer(experiment_name=config.EXPERIMENT_NAME, \n",
    "                  ckpt_root_dir=config.CHECKPOINT_DIR)\n",
    "\n",
    "\n",
    "\n"
   ]
  },
  {
   "cell_type": "code",
   "execution_count": 13,
   "metadata": {},
   "outputs": [
    {
     "ename": "RuntimeError",
     "evalue": "data_dir=/kaggle/input/parking-space-get-annotation-info-from-xml/datasets not found. Please make sure that data_dir points toward your dataset.",
     "output_type": "error",
     "traceback": [
      "\u001b[1;31m---------------------------------------------------------------------------\u001b[0m",
      "\u001b[1;31mRuntimeError\u001b[0m                              Traceback (most recent call last)",
      "Cell \u001b[1;32mIn[13], line 4\u001b[0m\n\u001b[0;32m      1\u001b[0m \u001b[38;5;66;03m# Loading the dataset\u001b[39;00m\n\u001b[0;32m      2\u001b[0m \n\u001b[0;32m      3\u001b[0m \u001b[38;5;66;03m# The training dataset\u001b[39;00m\n\u001b[1;32m----> 4\u001b[0m train_data \u001b[38;5;241m=\u001b[39m \u001b[43mcoco_detection_yolo_format_train\u001b[49m\u001b[43m(\u001b[49m\n\u001b[0;32m      5\u001b[0m \u001b[43m   \u001b[49m\u001b[43mdataset_params\u001b[49m\u001b[38;5;241;43m=\u001b[39;49m\u001b[43m{\u001b[49m\n\u001b[0;32m      6\u001b[0m \u001b[43m       \u001b[49m\u001b[38;5;124;43m'\u001b[39;49m\u001b[38;5;124;43mdata_dir\u001b[39;49m\u001b[38;5;124;43m'\u001b[39;49m\u001b[43m:\u001b[49m\u001b[43m \u001b[49m\u001b[43mconfig\u001b[49m\u001b[38;5;241;43m.\u001b[39;49m\u001b[43mDATA_DIR\u001b[49m\u001b[43m,\u001b[49m\n\u001b[0;32m      7\u001b[0m \u001b[43m       \u001b[49m\u001b[38;5;124;43m'\u001b[39;49m\u001b[38;5;124;43mimages_dir\u001b[39;49m\u001b[38;5;124;43m'\u001b[39;49m\u001b[43m:\u001b[49m\u001b[43m \u001b[49m\u001b[43mconfig\u001b[49m\u001b[38;5;241;43m.\u001b[39;49m\u001b[43mTRAIN_IMAGES_DIR\u001b[49m\u001b[43m,\u001b[49m\n\u001b[0;32m      8\u001b[0m \u001b[43m       \u001b[49m\u001b[38;5;124;43m'\u001b[39;49m\u001b[38;5;124;43mlabels_dir\u001b[39;49m\u001b[38;5;124;43m'\u001b[39;49m\u001b[43m:\u001b[49m\u001b[43m \u001b[49m\u001b[43mconfig\u001b[49m\u001b[38;5;241;43m.\u001b[39;49m\u001b[43mTRAIN_LABELS_DIR\u001b[49m\u001b[43m,\u001b[49m\n\u001b[0;32m      9\u001b[0m \u001b[43m       \u001b[49m\u001b[38;5;124;43m'\u001b[39;49m\u001b[38;5;124;43mclasses\u001b[39;49m\u001b[38;5;124;43m'\u001b[39;49m\u001b[43m:\u001b[49m\u001b[43m \u001b[49m\u001b[43mconfig\u001b[49m\u001b[38;5;241;43m.\u001b[39;49m\u001b[43mCLASSES\u001b[49m\n\u001b[0;32m     10\u001b[0m \u001b[43m   \u001b[49m\u001b[43m}\u001b[49m\u001b[43m,\u001b[49m\n\u001b[0;32m     11\u001b[0m \u001b[43m   \u001b[49m\u001b[43mdataloader_params\u001b[49m\u001b[38;5;241;43m=\u001b[39;49m\u001b[43mconfig\u001b[49m\u001b[38;5;241;43m.\u001b[39;49m\u001b[43mDATALOADER_PARAMS\u001b[49m\n\u001b[0;32m     12\u001b[0m \u001b[43m)\u001b[49m\n\u001b[0;32m     14\u001b[0m \u001b[38;5;66;03m# The validation dataset\u001b[39;00m\n\u001b[0;32m     15\u001b[0m val_data \u001b[38;5;241m=\u001b[39m coco_detection_yolo_format_val(\n\u001b[0;32m     16\u001b[0m    dataset_params\u001b[38;5;241m=\u001b[39m{\n\u001b[0;32m     17\u001b[0m        \u001b[38;5;124m'\u001b[39m\u001b[38;5;124mdata_dir\u001b[39m\u001b[38;5;124m'\u001b[39m: config\u001b[38;5;241m.\u001b[39mDATA_DIR,\n\u001b[1;32m   (...)\u001b[0m\n\u001b[0;32m     22\u001b[0m    dataloader_params\u001b[38;5;241m=\u001b[39mconfig\u001b[38;5;241m.\u001b[39mDATALOADER_PARAMS\n\u001b[0;32m     23\u001b[0m )\n",
      "File \u001b[1;32m~\\anaconda3\\envs\\sg_env\\lib\\site-packages\\super_gradients\\training\\dataloaders\\dataloaders.py:351\u001b[0m, in \u001b[0;36mcoco_detection_yolo_format_train\u001b[1;34m(dataset_params, dataloader_params)\u001b[0m\n\u001b[0;32m    349\u001b[0m \u001b[38;5;129m@register_dataloader\u001b[39m(Dataloaders\u001b[38;5;241m.\u001b[39mCOCO_DETECTION_YOLO_FORMAT_TRAIN)\n\u001b[0;32m    350\u001b[0m \u001b[38;5;28;01mdef\u001b[39;00m\u001b[38;5;250m \u001b[39m\u001b[38;5;21mcoco_detection_yolo_format_train\u001b[39m(dataset_params: Dict \u001b[38;5;241m=\u001b[39m \u001b[38;5;28;01mNone\u001b[39;00m, dataloader_params: Dict \u001b[38;5;241m=\u001b[39m \u001b[38;5;28;01mNone\u001b[39;00m) \u001b[38;5;241m-\u001b[39m\u001b[38;5;241m>\u001b[39m DataLoader:\n\u001b[1;32m--> 351\u001b[0m     \u001b[38;5;28;01mreturn\u001b[39;00m \u001b[43mget_data_loader\u001b[49m\u001b[43m(\u001b[49m\n\u001b[0;32m    352\u001b[0m \u001b[43m        \u001b[49m\u001b[43mconfig_name\u001b[49m\u001b[38;5;241;43m=\u001b[39;49m\u001b[38;5;124;43m\"\u001b[39;49m\u001b[38;5;124;43mcoco_detection_yolo_format_base_dataset_params\u001b[39;49m\u001b[38;5;124;43m\"\u001b[39;49m\u001b[43m,\u001b[49m\n\u001b[0;32m    353\u001b[0m \u001b[43m        \u001b[49m\u001b[43mdataset_cls\u001b[49m\u001b[38;5;241;43m=\u001b[39;49m\u001b[43mYoloDarknetFormatDetectionDataset\u001b[49m\u001b[43m,\u001b[49m\n\u001b[0;32m    354\u001b[0m \u001b[43m        \u001b[49m\u001b[43mtrain\u001b[49m\u001b[38;5;241;43m=\u001b[39;49m\u001b[38;5;28;43;01mTrue\u001b[39;49;00m\u001b[43m,\u001b[49m\n\u001b[0;32m    355\u001b[0m \u001b[43m        \u001b[49m\u001b[43mdataset_params\u001b[49m\u001b[38;5;241;43m=\u001b[39;49m\u001b[43mdataset_params\u001b[49m\u001b[43m,\u001b[49m\n\u001b[0;32m    356\u001b[0m \u001b[43m        \u001b[49m\u001b[43mdataloader_params\u001b[49m\u001b[38;5;241;43m=\u001b[39;49m\u001b[43mdataloader_params\u001b[49m\u001b[43m,\u001b[49m\n\u001b[0;32m    357\u001b[0m \u001b[43m    \u001b[49m\u001b[43m)\u001b[49m\n",
      "File \u001b[1;32m~\\anaconda3\\envs\\sg_env\\lib\\site-packages\\super_gradients\\training\\dataloaders\\dataloaders.py:82\u001b[0m, in \u001b[0;36mget_data_loader\u001b[1;34m(config_name, dataset_cls, train, dataset_params, dataloader_params)\u001b[0m\n\u001b[0;32m     80\u001b[0m local_rank \u001b[38;5;241m=\u001b[39m get_local_rank()\n\u001b[0;32m     81\u001b[0m \u001b[38;5;28;01mwith\u001b[39;00m wait_for_the_master(local_rank):\n\u001b[1;32m---> 82\u001b[0m     dataset \u001b[38;5;241m=\u001b[39m dataset_cls(\u001b[38;5;241m*\u001b[39m\u001b[38;5;241m*\u001b[39mdataset_params)\n\u001b[0;32m     83\u001b[0m     \u001b[38;5;28;01mif\u001b[39;00m \u001b[38;5;129;01mnot\u001b[39;00m \u001b[38;5;28mhasattr\u001b[39m(dataset, \u001b[38;5;124m\"\u001b[39m\u001b[38;5;124mdataset_params\u001b[39m\u001b[38;5;124m\"\u001b[39m):\n\u001b[0;32m     84\u001b[0m         dataset\u001b[38;5;241m.\u001b[39mdataset_params \u001b[38;5;241m=\u001b[39m dataset_params\n",
      "File \u001b[1;32m~\\anaconda3\\envs\\sg_env\\lib\\site-packages\\super_gradients\\training\\datasets\\detection_datasets\\yolo_format_detection.py:124\u001b[0m, in \u001b[0;36mYoloDarknetFormatDetectionDataset.__init__\u001b[1;34m(self, data_dir, images_dir, labels_dir, classes, class_ids_to_ignore, ignore_invalid_labels, show_all_warnings, *args, **kwargs)\u001b[0m\n\u001b[0;32m    122\u001b[0m kwargs[\u001b[38;5;124m\"\u001b[39m\u001b[38;5;124moutput_fields\u001b[39m\u001b[38;5;124m\"\u001b[39m] \u001b[38;5;241m=\u001b[39m [\u001b[38;5;124m\"\u001b[39m\u001b[38;5;124mimage\u001b[39m\u001b[38;5;124m\"\u001b[39m, \u001b[38;5;124m\"\u001b[39m\u001b[38;5;124mtarget\u001b[39m\u001b[38;5;124m\"\u001b[39m]\n\u001b[0;32m    123\u001b[0m kwargs[\u001b[38;5;124m\"\u001b[39m\u001b[38;5;124moriginal_target_format\u001b[39m\u001b[38;5;124m\"\u001b[39m] \u001b[38;5;241m=\u001b[39m XYXY_LABEL  \u001b[38;5;66;03m# We convert yolo format (LABEL_CXCYWH) to Coco format (XYXY_LABEL) when loading the annotation\u001b[39;00m\n\u001b[1;32m--> 124\u001b[0m \u001b[38;5;28msuper\u001b[39m()\u001b[38;5;241m.\u001b[39m\u001b[38;5;21m__init__\u001b[39m(data_dir\u001b[38;5;241m=\u001b[39mdata_dir, show_all_warnings\u001b[38;5;241m=\u001b[39mshow_all_warnings, \u001b[38;5;241m*\u001b[39margs, \u001b[38;5;241m*\u001b[39m\u001b[38;5;241m*\u001b[39mkwargs)\n",
      "File \u001b[1;32m~\\anaconda3\\envs\\sg_env\\lib\\site-packages\\super_gradients\\common\\decorators\\factory_decorator.py:36\u001b[0m, in \u001b[0;36mresolve_param.<locals>.inner.<locals>.wrapper\u001b[1;34m(*args, **kwargs)\u001b[0m\n\u001b[0;32m     34\u001b[0m             new_value \u001b[38;5;241m=\u001b[39m factory\u001b[38;5;241m.\u001b[39mget(args[index])\n\u001b[0;32m     35\u001b[0m             args \u001b[38;5;241m=\u001b[39m _assign_tuple(args, index, new_value)\n\u001b[1;32m---> 36\u001b[0m \u001b[38;5;28;01mreturn\u001b[39;00m func(\u001b[38;5;241m*\u001b[39margs, \u001b[38;5;241m*\u001b[39m\u001b[38;5;241m*\u001b[39mkwargs)\n",
      "File \u001b[1;32m~\\anaconda3\\envs\\sg_env\\lib\\site-packages\\super_gradients\\training\\datasets\\detection_datasets\\detection_dataset.py:144\u001b[0m, in \u001b[0;36mDetectionDataset.__init__\u001b[1;34m(self, data_dir, original_target_format, max_num_samples, cache_annotations, input_dim, transforms, all_classes_list, class_inclusion_list, ignore_empty_annotations, target_fields, output_fields, verbose, show_all_warnings, cache, cache_dir)\u001b[0m\n\u001b[0;32m    142\u001b[0m \u001b[38;5;28mself\u001b[39m\u001b[38;5;241m.\u001b[39mdata_dir \u001b[38;5;241m=\u001b[39m data_dir\n\u001b[0;32m    143\u001b[0m \u001b[38;5;28;01mif\u001b[39;00m \u001b[38;5;129;01mnot\u001b[39;00m Path(data_dir)\u001b[38;5;241m.\u001b[39mexists():\n\u001b[1;32m--> 144\u001b[0m     \u001b[38;5;28;01mraise\u001b[39;00m \u001b[38;5;167;01mRuntimeError\u001b[39;00m(\u001b[38;5;124mf\u001b[39m\u001b[38;5;124m\"\u001b[39m\u001b[38;5;124mdata_dir=\u001b[39m\u001b[38;5;132;01m{\u001b[39;00mdata_dir\u001b[38;5;132;01m}\u001b[39;00m\u001b[38;5;124m not found. Please make sure that data_dir points toward your dataset.\u001b[39m\u001b[38;5;124m\"\u001b[39m)\n\u001b[0;32m    146\u001b[0m \u001b[38;5;66;03m# Number of images that are available (regardless of ignored images)\u001b[39;00m\n\u001b[0;32m    147\u001b[0m n_dataset_samples \u001b[38;5;241m=\u001b[39m \u001b[38;5;28mself\u001b[39m\u001b[38;5;241m.\u001b[39m_setup_data_source()\n",
      "\u001b[1;31mRuntimeError\u001b[0m: data_dir=/kaggle/input/parking-space-get-annotation-info-from-xml/datasets not found. Please make sure that data_dir points toward your dataset."
     ]
    }
   ],
   "source": [
    " # Loading the dataset\n",
    "\n",
    "# The training dataset\n",
    "train_data = coco_detection_yolo_format_train(\n",
    "    dataset_params={\n",
    "        'data_dir': config.DATA_DIR,\n",
    "        'images_dir': config.TRAIN_IMAGES_DIR,\n",
    "        'labels_dir': config.TRAIN_LABELS_DIR,\n",
    "        'classes': config.CLASSES\n",
    "    },\n",
    "    dataloader_params=config.DATALOADER_PARAMS\n",
    ")\n",
    "\n",
    "# The validation dataset\n",
    "val_data = coco_detection_yolo_format_val(\n",
    "    dataset_params={\n",
    "        'data_dir': config.DATA_DIR,\n",
    "        'images_dir': config.VAL_IMAGES_DIR,\n",
    "        'labels_dir': config.VAL_LABELS_DIR,\n",
    "        'classes': config.CLASSES\n",
    "    },\n",
    "    dataloader_params=config.DATALOADER_PARAMS\n",
    ")\n",
    "\n",
    "# The test dataset\n",
    "test_data = coco_detection_yolo_format_val(\n",
    "    dataset_params={\n",
    "        'data_dir': config.DATA_DIR,\n",
    "        'images_dir': config.TEST_IMAGES_DIR,\n",
    "        'labels_dir': config.TEST_LABELS_DIR,\n",
    "        'classes': config.CLASSES\n",
    "    },\n",
    "    dataloader_params=config.DATALOADER_PARAMS\n",
    ")\n"
   ]
  },
  {
   "cell_type": "code",
   "execution_count": null,
   "metadata": {},
   "outputs": [],
   "source": []
  },
  {
   "cell_type": "code",
   "execution_count": null,
   "metadata": {},
   "outputs": [],
   "source": []
  }
 ],
 "metadata": {
  "kernelspec": {
   "display_name": "Python 3 (ipykernel)",
   "language": "python",
   "name": "python3"
  },
  "language_info": {
   "codemirror_mode": {
    "name": "ipython",
    "version": 3
   },
   "file_extension": ".py",
   "mimetype": "text/x-python",
   "name": "python",
   "nbconvert_exporter": "python",
   "pygments_lexer": "ipython3",
   "version": "3.10.16"
  }
 },
 "nbformat": 4,
 "nbformat_minor": 4
}
